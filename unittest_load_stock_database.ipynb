{
 "cells": [
  {
   "cell_type": "code",
   "execution_count": null,
   "id": "74e1b866",
   "metadata": {},
   "outputs": [],
   "source": [
    "def load_data_into_dataframe(list_str):\n",
    "    import pandas as pd\n",
    "    datasets = [] \n",
    "    for i in list_str:\n",
    "        dataset = yf.Ticker(i)\n",
    "        dataset = dataset.history(period=\"max\")\n",
    "        dataset['name'] = [i for _ in range(dataset.shape[0])]\n",
    "        datasets.append(dataset)\n",
    "    stock_data = pd.concat(datasets)\n",
    "    return stock_data"
   ]
  },
  {
   "cell_type": "code",
   "execution_count": null,
   "id": "2b671ed7",
   "metadata": {},
   "outputs": [],
   "source": [
    "import unittest\n",
    "\n",
    "class TestDataLoader(unittest.TestCase):\n",
    "    def test_fails_without_file_list(self):\n",
    "        with self.assertRaises(TypeError):\n",
    "            load_data_into_dataframe()\n",
    "    \n",
    "    def test_output_type(self):\n",
    "        self.assertIs(type(load_data_into_dataframe([\"AMZN\"])), type(pd.DataFrame()))\n",
    "        \n",
    "    def test_column_names(self):\n",
    "        df = load_data_into_dataframe([\"AMZN\"])\n",
    "        bool_cols = (df.columns == ['Open', 'High', 'Low', 'Close', 'Volume', 'Dividends', 'Stock Splits', 'name'])\n",
    "        self.assertTrue(bool_cols.all())\n",
    "        \n",
    "    def test_multiple_files_of_data(self):\n",
    "        df = load_data_into_dataframe([\"AMZN\", \"SEB\"])\n",
    "        self.assertIs(type(df), type(pd.DataFrame()))\n",
    "                                    \n",
    "unittest.main(TestDataLoader(), argv=['first-arg-is-ignored'], exit=False)"
   ]
  }
 ],
 "metadata": {
  "kernelspec": {
   "display_name": "Python (engineering)",
   "language": "python",
   "name": "engineering"
  },
  "language_info": {
   "codemirror_mode": {
    "name": "ipython",
    "version": 3
   },
   "file_extension": ".py",
   "mimetype": "text/x-python",
   "name": "python",
   "nbconvert_exporter": "python",
   "pygments_lexer": "ipython3",
   "version": "3.8.5"
  }
 },
 "nbformat": 4,
 "nbformat_minor": 5
}
